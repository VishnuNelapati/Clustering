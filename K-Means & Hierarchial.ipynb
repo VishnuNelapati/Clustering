{
 "cells": [
  {
   "cell_type": "markdown",
   "metadata": {},
   "source": [
    "# Import Modules"
   ]
  },
  {
   "cell_type": "code",
   "execution_count": 72,
   "metadata": {},
   "outputs": [],
   "source": [
    "import numpy as np\n",
    "import pandas as pd\n",
    "import matplotlib.pyplot as plt\n",
    "import seaborn as sns\n",
    "import warnings\n",
    "from datetime import datetime,date,timedelta\n",
    "warnings.filterwarnings('ignore')\n",
    "from sklearn.cluster import hierarchical,linkage_tree\n",
    "%matplotlib inline"
   ]
  },
  {
   "cell_type": "markdown",
   "metadata": {},
   "source": [
    "# Import Data"
   ]
  },
  {
   "cell_type": "code",
   "execution_count": 2,
   "metadata": {},
   "outputs": [],
   "source": [
    "cust = pd.read_excel('Online Retail.xlsx')"
   ]
  },
  {
   "cell_type": "code",
   "execution_count": 3,
   "metadata": {},
   "outputs": [
    {
     "data": {
      "text/html": [
       "<div>\n",
       "<style scoped>\n",
       "    .dataframe tbody tr th:only-of-type {\n",
       "        vertical-align: middle;\n",
       "    }\n",
       "\n",
       "    .dataframe tbody tr th {\n",
       "        vertical-align: top;\n",
       "    }\n",
       "\n",
       "    .dataframe thead th {\n",
       "        text-align: right;\n",
       "    }\n",
       "</style>\n",
       "<table border=\"1\" class=\"dataframe\">\n",
       "  <thead>\n",
       "    <tr style=\"text-align: right;\">\n",
       "      <th></th>\n",
       "      <th>InvoiceNo</th>\n",
       "      <th>StockCode</th>\n",
       "      <th>Description</th>\n",
       "      <th>Quantity</th>\n",
       "      <th>InvoiceDate</th>\n",
       "      <th>UnitPrice</th>\n",
       "      <th>CustomerID</th>\n",
       "      <th>Country</th>\n",
       "    </tr>\n",
       "  </thead>\n",
       "  <tbody>\n",
       "    <tr>\n",
       "      <th>0</th>\n",
       "      <td>536365</td>\n",
       "      <td>85123A</td>\n",
       "      <td>WHITE HANGING HEART T-LIGHT HOLDER</td>\n",
       "      <td>6</td>\n",
       "      <td>2010-12-01 08:26:00</td>\n",
       "      <td>2.55</td>\n",
       "      <td>17850.0</td>\n",
       "      <td>United Kingdom</td>\n",
       "    </tr>\n",
       "    <tr>\n",
       "      <th>1</th>\n",
       "      <td>536365</td>\n",
       "      <td>71053</td>\n",
       "      <td>WHITE METAL LANTERN</td>\n",
       "      <td>6</td>\n",
       "      <td>2010-12-01 08:26:00</td>\n",
       "      <td>3.39</td>\n",
       "      <td>17850.0</td>\n",
       "      <td>United Kingdom</td>\n",
       "    </tr>\n",
       "    <tr>\n",
       "      <th>2</th>\n",
       "      <td>536365</td>\n",
       "      <td>84406B</td>\n",
       "      <td>CREAM CUPID HEARTS COAT HANGER</td>\n",
       "      <td>8</td>\n",
       "      <td>2010-12-01 08:26:00</td>\n",
       "      <td>2.75</td>\n",
       "      <td>17850.0</td>\n",
       "      <td>United Kingdom</td>\n",
       "    </tr>\n",
       "    <tr>\n",
       "      <th>3</th>\n",
       "      <td>536365</td>\n",
       "      <td>84029G</td>\n",
       "      <td>KNITTED UNION FLAG HOT WATER BOTTLE</td>\n",
       "      <td>6</td>\n",
       "      <td>2010-12-01 08:26:00</td>\n",
       "      <td>3.39</td>\n",
       "      <td>17850.0</td>\n",
       "      <td>United Kingdom</td>\n",
       "    </tr>\n",
       "    <tr>\n",
       "      <th>4</th>\n",
       "      <td>536365</td>\n",
       "      <td>84029E</td>\n",
       "      <td>RED WOOLLY HOTTIE WHITE HEART.</td>\n",
       "      <td>6</td>\n",
       "      <td>2010-12-01 08:26:00</td>\n",
       "      <td>3.39</td>\n",
       "      <td>17850.0</td>\n",
       "      <td>United Kingdom</td>\n",
       "    </tr>\n",
       "  </tbody>\n",
       "</table>\n",
       "</div>"
      ],
      "text/plain": [
       "  InvoiceNo StockCode                          Description  Quantity  \\\n",
       "0    536365    85123A   WHITE HANGING HEART T-LIGHT HOLDER         6   \n",
       "1    536365     71053                  WHITE METAL LANTERN         6   \n",
       "2    536365    84406B       CREAM CUPID HEARTS COAT HANGER         8   \n",
       "3    536365    84029G  KNITTED UNION FLAG HOT WATER BOTTLE         6   \n",
       "4    536365    84029E       RED WOOLLY HOTTIE WHITE HEART.         6   \n",
       "\n",
       "          InvoiceDate  UnitPrice  CustomerID         Country  \n",
       "0 2010-12-01 08:26:00       2.55     17850.0  United Kingdom  \n",
       "1 2010-12-01 08:26:00       3.39     17850.0  United Kingdom  \n",
       "2 2010-12-01 08:26:00       2.75     17850.0  United Kingdom  \n",
       "3 2010-12-01 08:26:00       3.39     17850.0  United Kingdom  \n",
       "4 2010-12-01 08:26:00       3.39     17850.0  United Kingdom  "
      ]
     },
     "execution_count": 3,
     "metadata": {},
     "output_type": "execute_result"
    }
   ],
   "source": [
    "cust.head()"
   ]
  },
  {
   "cell_type": "code",
   "execution_count": 4,
   "metadata": {},
   "outputs": [
    {
     "name": "stdout",
     "output_type": "stream",
     "text": [
      "<class 'pandas.core.frame.DataFrame'>\n",
      "RangeIndex: 541909 entries, 0 to 541908\n",
      "Data columns (total 8 columns):\n",
      " #   Column       Non-Null Count   Dtype         \n",
      "---  ------       --------------   -----         \n",
      " 0   InvoiceNo    541909 non-null  object        \n",
      " 1   StockCode    541909 non-null  object        \n",
      " 2   Description  540455 non-null  object        \n",
      " 3   Quantity     541909 non-null  int64         \n",
      " 4   InvoiceDate  541909 non-null  datetime64[ns]\n",
      " 5   UnitPrice    541909 non-null  float64       \n",
      " 6   CustomerID   406829 non-null  float64       \n",
      " 7   Country      541909 non-null  object        \n",
      "dtypes: datetime64[ns](1), float64(2), int64(1), object(4)\n",
      "memory usage: 33.1+ MB\n"
     ]
    }
   ],
   "source": [
    "cust.info()"
   ]
  },
  {
   "cell_type": "code",
   "execution_count": 5,
   "metadata": {},
   "outputs": [
    {
     "data": {
      "text/plain": [
       "InvoiceNo           0\n",
       "StockCode           0\n",
       "Description      1454\n",
       "Quantity            0\n",
       "InvoiceDate         0\n",
       "UnitPrice           0\n",
       "CustomerID     135080\n",
       "Country             0\n",
       "dtype: int64"
      ]
     },
     "execution_count": 5,
     "metadata": {},
     "output_type": "execute_result"
    }
   ],
   "source": [
    "#Checking for the count of rows with null values\n",
    "cust.isnull().sum()"
   ]
  },
  {
   "cell_type": "code",
   "execution_count": 6,
   "metadata": {},
   "outputs": [],
   "source": [
    "#Dropping all the rows that contains NA\n",
    "cust.dropna(axis = 0,inplace=True)"
   ]
  },
  {
   "cell_type": "code",
   "execution_count": 7,
   "metadata": {},
   "outputs": [
    {
     "data": {
      "text/plain": [
       "(406829, 8)"
      ]
     },
     "execution_count": 7,
     "metadata": {},
     "output_type": "execute_result"
    }
   ],
   "source": [
    "cust.shape"
   ]
  },
  {
   "cell_type": "code",
   "execution_count": 8,
   "metadata": {},
   "outputs": [],
   "source": [
    "cust['Totalprice'] = cust.Quantity * cust.UnitPrice"
   ]
  },
  {
   "cell_type": "code",
   "execution_count": 9,
   "metadata": {},
   "outputs": [
    {
     "data": {
      "text/html": [
       "<div>\n",
       "<style scoped>\n",
       "    .dataframe tbody tr th:only-of-type {\n",
       "        vertical-align: middle;\n",
       "    }\n",
       "\n",
       "    .dataframe tbody tr th {\n",
       "        vertical-align: top;\n",
       "    }\n",
       "\n",
       "    .dataframe thead th {\n",
       "        text-align: right;\n",
       "    }\n",
       "</style>\n",
       "<table border=\"1\" class=\"dataframe\">\n",
       "  <thead>\n",
       "    <tr style=\"text-align: right;\">\n",
       "      <th></th>\n",
       "      <th>InvoiceNo</th>\n",
       "      <th>StockCode</th>\n",
       "      <th>Description</th>\n",
       "      <th>Quantity</th>\n",
       "      <th>InvoiceDate</th>\n",
       "      <th>UnitPrice</th>\n",
       "      <th>CustomerID</th>\n",
       "      <th>Country</th>\n",
       "      <th>Totalprice</th>\n",
       "    </tr>\n",
       "  </thead>\n",
       "  <tbody>\n",
       "    <tr>\n",
       "      <th>0</th>\n",
       "      <td>536365</td>\n",
       "      <td>85123A</td>\n",
       "      <td>WHITE HANGING HEART T-LIGHT HOLDER</td>\n",
       "      <td>6</td>\n",
       "      <td>2010-12-01 08:26:00</td>\n",
       "      <td>2.55</td>\n",
       "      <td>17850.0</td>\n",
       "      <td>United Kingdom</td>\n",
       "      <td>15.30</td>\n",
       "    </tr>\n",
       "    <tr>\n",
       "      <th>1</th>\n",
       "      <td>536365</td>\n",
       "      <td>71053</td>\n",
       "      <td>WHITE METAL LANTERN</td>\n",
       "      <td>6</td>\n",
       "      <td>2010-12-01 08:26:00</td>\n",
       "      <td>3.39</td>\n",
       "      <td>17850.0</td>\n",
       "      <td>United Kingdom</td>\n",
       "      <td>20.34</td>\n",
       "    </tr>\n",
       "    <tr>\n",
       "      <th>2</th>\n",
       "      <td>536365</td>\n",
       "      <td>84406B</td>\n",
       "      <td>CREAM CUPID HEARTS COAT HANGER</td>\n",
       "      <td>8</td>\n",
       "      <td>2010-12-01 08:26:00</td>\n",
       "      <td>2.75</td>\n",
       "      <td>17850.0</td>\n",
       "      <td>United Kingdom</td>\n",
       "      <td>22.00</td>\n",
       "    </tr>\n",
       "    <tr>\n",
       "      <th>3</th>\n",
       "      <td>536365</td>\n",
       "      <td>84029G</td>\n",
       "      <td>KNITTED UNION FLAG HOT WATER BOTTLE</td>\n",
       "      <td>6</td>\n",
       "      <td>2010-12-01 08:26:00</td>\n",
       "      <td>3.39</td>\n",
       "      <td>17850.0</td>\n",
       "      <td>United Kingdom</td>\n",
       "      <td>20.34</td>\n",
       "    </tr>\n",
       "    <tr>\n",
       "      <th>4</th>\n",
       "      <td>536365</td>\n",
       "      <td>84029E</td>\n",
       "      <td>RED WOOLLY HOTTIE WHITE HEART.</td>\n",
       "      <td>6</td>\n",
       "      <td>2010-12-01 08:26:00</td>\n",
       "      <td>3.39</td>\n",
       "      <td>17850.0</td>\n",
       "      <td>United Kingdom</td>\n",
       "      <td>20.34</td>\n",
       "    </tr>\n",
       "  </tbody>\n",
       "</table>\n",
       "</div>"
      ],
      "text/plain": [
       "  InvoiceNo StockCode                          Description  Quantity  \\\n",
       "0    536365    85123A   WHITE HANGING HEART T-LIGHT HOLDER         6   \n",
       "1    536365     71053                  WHITE METAL LANTERN         6   \n",
       "2    536365    84406B       CREAM CUPID HEARTS COAT HANGER         8   \n",
       "3    536365    84029G  KNITTED UNION FLAG HOT WATER BOTTLE         6   \n",
       "4    536365    84029E       RED WOOLLY HOTTIE WHITE HEART.         6   \n",
       "\n",
       "          InvoiceDate  UnitPrice  CustomerID         Country  Totalprice  \n",
       "0 2010-12-01 08:26:00       2.55     17850.0  United Kingdom       15.30  \n",
       "1 2010-12-01 08:26:00       3.39     17850.0  United Kingdom       20.34  \n",
       "2 2010-12-01 08:26:00       2.75     17850.0  United Kingdom       22.00  \n",
       "3 2010-12-01 08:26:00       3.39     17850.0  United Kingdom       20.34  \n",
       "4 2010-12-01 08:26:00       3.39     17850.0  United Kingdom       20.34  "
      ]
     },
     "execution_count": 9,
     "metadata": {},
     "output_type": "execute_result"
    }
   ],
   "source": [
    "cust.head()"
   ]
  },
  {
   "cell_type": "code",
   "execution_count": 10,
   "metadata": {},
   "outputs": [],
   "source": [
    "Monetary = pd.DataFrame(cust[['CustomerID','Totalprice']].groupby(by = ['CustomerID']).sum())"
   ]
  },
  {
   "cell_type": "code",
   "execution_count": 11,
   "metadata": {},
   "outputs": [
    {
     "data": {
      "text/html": [
       "<div>\n",
       "<style scoped>\n",
       "    .dataframe tbody tr th:only-of-type {\n",
       "        vertical-align: middle;\n",
       "    }\n",
       "\n",
       "    .dataframe tbody tr th {\n",
       "        vertical-align: top;\n",
       "    }\n",
       "\n",
       "    .dataframe thead th {\n",
       "        text-align: right;\n",
       "    }\n",
       "</style>\n",
       "<table border=\"1\" class=\"dataframe\">\n",
       "  <thead>\n",
       "    <tr style=\"text-align: right;\">\n",
       "      <th></th>\n",
       "      <th>Totalprice</th>\n",
       "    </tr>\n",
       "    <tr>\n",
       "      <th>CustomerID</th>\n",
       "      <th></th>\n",
       "    </tr>\n",
       "  </thead>\n",
       "  <tbody>\n",
       "    <tr>\n",
       "      <th>12346.0</th>\n",
       "      <td>0.00</td>\n",
       "    </tr>\n",
       "    <tr>\n",
       "      <th>12347.0</th>\n",
       "      <td>4310.00</td>\n",
       "    </tr>\n",
       "    <tr>\n",
       "      <th>12348.0</th>\n",
       "      <td>1797.24</td>\n",
       "    </tr>\n",
       "    <tr>\n",
       "      <th>12349.0</th>\n",
       "      <td>1757.55</td>\n",
       "    </tr>\n",
       "    <tr>\n",
       "      <th>12350.0</th>\n",
       "      <td>334.40</td>\n",
       "    </tr>\n",
       "  </tbody>\n",
       "</table>\n",
       "</div>"
      ],
      "text/plain": [
       "            Totalprice\n",
       "CustomerID            \n",
       "12346.0           0.00\n",
       "12347.0        4310.00\n",
       "12348.0        1797.24\n",
       "12349.0        1757.55\n",
       "12350.0         334.40"
      ]
     },
     "execution_count": 11,
     "metadata": {},
     "output_type": "execute_result"
    }
   ],
   "source": [
    "Monetary.head()"
   ]
  },
  {
   "cell_type": "code",
   "execution_count": 12,
   "metadata": {},
   "outputs": [],
   "source": [
    "Frequency = pd.DataFrame(cust[['InvoiceNo','CustomerID']].groupby(by = ['CustomerID']).count())"
   ]
  },
  {
   "cell_type": "code",
   "execution_count": 13,
   "metadata": {},
   "outputs": [],
   "source": [
    "Frequency.columns = ['Freq']"
   ]
  },
  {
   "cell_type": "code",
   "execution_count": 14,
   "metadata": {},
   "outputs": [
    {
     "data": {
      "text/html": [
       "<div>\n",
       "<style scoped>\n",
       "    .dataframe tbody tr th:only-of-type {\n",
       "        vertical-align: middle;\n",
       "    }\n",
       "\n",
       "    .dataframe tbody tr th {\n",
       "        vertical-align: top;\n",
       "    }\n",
       "\n",
       "    .dataframe thead th {\n",
       "        text-align: right;\n",
       "    }\n",
       "</style>\n",
       "<table border=\"1\" class=\"dataframe\">\n",
       "  <thead>\n",
       "    <tr style=\"text-align: right;\">\n",
       "      <th></th>\n",
       "      <th>Freq</th>\n",
       "    </tr>\n",
       "    <tr>\n",
       "      <th>CustomerID</th>\n",
       "      <th></th>\n",
       "    </tr>\n",
       "  </thead>\n",
       "  <tbody>\n",
       "    <tr>\n",
       "      <th>12346.0</th>\n",
       "      <td>2</td>\n",
       "    </tr>\n",
       "    <tr>\n",
       "      <th>12347.0</th>\n",
       "      <td>182</td>\n",
       "    </tr>\n",
       "    <tr>\n",
       "      <th>12348.0</th>\n",
       "      <td>31</td>\n",
       "    </tr>\n",
       "    <tr>\n",
       "      <th>12349.0</th>\n",
       "      <td>73</td>\n",
       "    </tr>\n",
       "    <tr>\n",
       "      <th>12350.0</th>\n",
       "      <td>17</td>\n",
       "    </tr>\n",
       "  </tbody>\n",
       "</table>\n",
       "</div>"
      ],
      "text/plain": [
       "            Freq\n",
       "CustomerID      \n",
       "12346.0        2\n",
       "12347.0      182\n",
       "12348.0       31\n",
       "12349.0       73\n",
       "12350.0       17"
      ]
     },
     "execution_count": 14,
     "metadata": {},
     "output_type": "execute_result"
    }
   ],
   "source": [
    "Frequency.head()"
   ]
  },
  {
   "cell_type": "markdown",
   "metadata": {},
   "source": [
    "**pandas.to_timedelta(arg, unit=None, errors='raise')**\n",
    "\n",
    "Convert argument to timedelta.\n",
    "\n",
    "Timedeltas are absolute differences in times, expressed in difference\n",
    "    units (e.g. days, hours, minutes, seconds). This method converts\n",
    "    an argument from a recognized timedelta format / value into\n",
    "    a Timedelta type.\n"
   ]
  },
  {
   "cell_type": "code",
   "execution_count": 15,
   "metadata": {},
   "outputs": [
    {
     "data": {
      "text/plain": [
       "Timestamp('2011-12-10 12:50:00')"
      ]
     },
     "execution_count": 15,
     "metadata": {},
     "output_type": "execute_result"
    }
   ],
   "source": [
    "cust['InvoiceDate'].max() + timedelta(1) "
   ]
  },
  {
   "cell_type": "code",
   "execution_count": 16,
   "metadata": {},
   "outputs": [],
   "source": [
    "Recency = pd.DataFrame(cust['InvoiceDate'].max() + timedelta(1) - cust[['InvoiceDate','CustomerID']].groupby(by = ['CustomerID']).max()) "
   ]
  },
  {
   "cell_type": "code",
   "execution_count": 17,
   "metadata": {},
   "outputs": [
    {
     "name": "stdout",
     "output_type": "stream",
     "text": [
      "<class 'pandas.core.frame.DataFrame'>\n",
      "Float64Index: 4372 entries, 12346.0 to 18287.0\n",
      "Data columns (total 1 columns):\n",
      " #   Column       Non-Null Count  Dtype          \n",
      "---  ------       --------------  -----          \n",
      " 0   InvoiceDate  4372 non-null   timedelta64[ns]\n",
      "dtypes: timedelta64[ns](1)\n",
      "memory usage: 68.3 KB\n"
     ]
    }
   ],
   "source": [
    "Recency.info()"
   ]
  },
  {
   "cell_type": "code",
   "execution_count": 18,
   "metadata": {},
   "outputs": [],
   "source": [
    "Recency.columns = ['LastPurchase']"
   ]
  },
  {
   "cell_type": "code",
   "execution_count": 19,
   "metadata": {},
   "outputs": [
    {
     "data": {
      "text/html": [
       "<div>\n",
       "<style scoped>\n",
       "    .dataframe tbody tr th:only-of-type {\n",
       "        vertical-align: middle;\n",
       "    }\n",
       "\n",
       "    .dataframe tbody tr th {\n",
       "        vertical-align: top;\n",
       "    }\n",
       "\n",
       "    .dataframe thead th {\n",
       "        text-align: right;\n",
       "    }\n",
       "</style>\n",
       "<table border=\"1\" class=\"dataframe\">\n",
       "  <thead>\n",
       "    <tr style=\"text-align: right;\">\n",
       "      <th></th>\n",
       "      <th>LastPurchase</th>\n",
       "    </tr>\n",
       "    <tr>\n",
       "      <th>CustomerID</th>\n",
       "      <th></th>\n",
       "    </tr>\n",
       "  </thead>\n",
       "  <tbody>\n",
       "    <tr>\n",
       "      <th>12346.0</th>\n",
       "      <td>326 days 02:33:00</td>\n",
       "    </tr>\n",
       "    <tr>\n",
       "      <th>12347.0</th>\n",
       "      <td>2 days 20:58:00</td>\n",
       "    </tr>\n",
       "    <tr>\n",
       "      <th>12348.0</th>\n",
       "      <td>75 days 23:37:00</td>\n",
       "    </tr>\n",
       "    <tr>\n",
       "      <th>12349.0</th>\n",
       "      <td>19 days 02:59:00</td>\n",
       "    </tr>\n",
       "    <tr>\n",
       "      <th>12350.0</th>\n",
       "      <td>310 days 20:49:00</td>\n",
       "    </tr>\n",
       "  </tbody>\n",
       "</table>\n",
       "</div>"
      ],
      "text/plain": [
       "                LastPurchase\n",
       "CustomerID                  \n",
       "12346.0    326 days 02:33:00\n",
       "12347.0      2 days 20:58:00\n",
       "12348.0     75 days 23:37:00\n",
       "12349.0     19 days 02:59:00\n",
       "12350.0    310 days 20:49:00"
      ]
     },
     "execution_count": 19,
     "metadata": {},
     "output_type": "execute_result"
    }
   ],
   "source": [
    "Recency.head()"
   ]
  },
  {
   "cell_type": "code",
   "execution_count": 20,
   "metadata": {},
   "outputs": [],
   "source": [
    "Recency['LastPurchase'] = pd.to_timedelta(Recency['LastPurchase'], errors='coerce').dt.days"
   ]
  },
  {
   "cell_type": "code",
   "execution_count": 21,
   "metadata": {},
   "outputs": [],
   "source": [
    "retail = pd.concat([Recency,Frequency,Monetary],axis=1)"
   ]
  },
  {
   "cell_type": "code",
   "execution_count": 22,
   "metadata": {},
   "outputs": [],
   "source": [
    "retail.reset_index(inplace=True)"
   ]
  },
  {
   "cell_type": "code",
   "execution_count": 23,
   "metadata": {},
   "outputs": [
    {
     "data": {
      "text/html": [
       "<div>\n",
       "<style scoped>\n",
       "    .dataframe tbody tr th:only-of-type {\n",
       "        vertical-align: middle;\n",
       "    }\n",
       "\n",
       "    .dataframe tbody tr th {\n",
       "        vertical-align: top;\n",
       "    }\n",
       "\n",
       "    .dataframe thead th {\n",
       "        text-align: right;\n",
       "    }\n",
       "</style>\n",
       "<table border=\"1\" class=\"dataframe\">\n",
       "  <thead>\n",
       "    <tr style=\"text-align: right;\">\n",
       "      <th></th>\n",
       "      <th>CustomerID</th>\n",
       "      <th>LastPurchase</th>\n",
       "      <th>Freq</th>\n",
       "      <th>Totalprice</th>\n",
       "    </tr>\n",
       "  </thead>\n",
       "  <tbody>\n",
       "    <tr>\n",
       "      <th>0</th>\n",
       "      <td>12346.0</td>\n",
       "      <td>326</td>\n",
       "      <td>2</td>\n",
       "      <td>0.00</td>\n",
       "    </tr>\n",
       "    <tr>\n",
       "      <th>1</th>\n",
       "      <td>12347.0</td>\n",
       "      <td>2</td>\n",
       "      <td>182</td>\n",
       "      <td>4310.00</td>\n",
       "    </tr>\n",
       "    <tr>\n",
       "      <th>2</th>\n",
       "      <td>12348.0</td>\n",
       "      <td>75</td>\n",
       "      <td>31</td>\n",
       "      <td>1797.24</td>\n",
       "    </tr>\n",
       "    <tr>\n",
       "      <th>3</th>\n",
       "      <td>12349.0</td>\n",
       "      <td>19</td>\n",
       "      <td>73</td>\n",
       "      <td>1757.55</td>\n",
       "    </tr>\n",
       "    <tr>\n",
       "      <th>4</th>\n",
       "      <td>12350.0</td>\n",
       "      <td>310</td>\n",
       "      <td>17</td>\n",
       "      <td>334.40</td>\n",
       "    </tr>\n",
       "  </tbody>\n",
       "</table>\n",
       "</div>"
      ],
      "text/plain": [
       "   CustomerID  LastPurchase  Freq  Totalprice\n",
       "0     12346.0           326     2        0.00\n",
       "1     12347.0             2   182     4310.00\n",
       "2     12348.0            75    31     1797.24\n",
       "3     12349.0            19    73     1757.55\n",
       "4     12350.0           310    17      334.40"
      ]
     },
     "execution_count": 23,
     "metadata": {},
     "output_type": "execute_result"
    }
   ],
   "source": [
    "retail.head()"
   ]
  },
  {
   "cell_type": "code",
   "execution_count": 24,
   "metadata": {},
   "outputs": [],
   "source": [
    "retail['CustomerID'] = retail['CustomerID'].astype('int64').astype('category')"
   ]
  },
  {
   "cell_type": "code",
   "execution_count": 25,
   "metadata": {},
   "outputs": [
    {
     "name": "stdout",
     "output_type": "stream",
     "text": [
      "<class 'pandas.core.frame.DataFrame'>\n",
      "RangeIndex: 4372 entries, 0 to 4371\n",
      "Data columns (total 4 columns):\n",
      " #   Column        Non-Null Count  Dtype   \n",
      "---  ------        --------------  -----   \n",
      " 0   CustomerID    4372 non-null   category\n",
      " 1   LastPurchase  4372 non-null   int64   \n",
      " 2   Freq          4372 non-null   int64   \n",
      " 3   Totalprice    4372 non-null   float64 \n",
      "dtypes: category(1), float64(1), int64(2)\n",
      "memory usage: 305.3 KB\n"
     ]
    }
   ],
   "source": [
    "retail.info()"
   ]
  },
  {
   "cell_type": "markdown",
   "metadata": {},
   "source": [
    "# Visualization"
   ]
  },
  {
   "cell_type": "markdown",
   "metadata": {},
   "source": [
    "As we can observe from the below plots there are various outlier in the each column ,since K-means clustering is sensititve to outliers (**Which are greater than Q3+(1.5)* InterQuartile Range or less than Q1-(1.5)* InterquartileRange**) ,we need to remove those data points."
   ]
  },
  {
   "cell_type": "code",
   "execution_count": 26,
   "metadata": {},
   "outputs": [
    {
     "data": {
      "text/plain": [
       "Text(0.5, 1.0, 'Box plot for Last Purchase')"
      ]
     },
     "execution_count": 26,
     "metadata": {},
     "output_type": "execute_result"
    },
    {
     "data": {
      "image/png": "[encoded data removed]",
      "text/plain": [
       "<Figure size 576x432 with 1 Axes>"
      ]
     },
     "metadata": {
      "needs_background": "light"
     },
     "output_type": "display_data"
    }
   ],
   "source": [
    "plt.figure(figsize=(8,6))\n",
    "sns.boxplot(y='LastPurchase',data=retail)\n",
    "plt.title(\"Box plot for Last Purchase\")"
   ]
  },
  {
   "cell_type": "markdown",
   "metadata": {},
   "source": [
    "**InterquartileRange = retail['LastPurchase'].quantile(0.75)-retail['LastPurchase'].quantile(0.25)**"
   ]
  },
  {
   "cell_type": "code",
   "execution_count": 27,
   "metadata": {},
   "outputs": [],
   "source": [
    "lowerBoundary_purchase = retail['LastPurchase'].quantile(0.25) - (1.5*(retail['LastPurchase'].quantile(0.75)-retail['LastPurchase'].quantile(0.25)))"
   ]
  },
  {
   "cell_type": "code",
   "execution_count": 28,
   "metadata": {},
   "outputs": [],
   "source": [
    "UpperBoundary_purchase = retail['LastPurchase'].quantile(0.75) + (1.5*(retail['LastPurchase'].quantile(0.75)-retail['LastPurchase'].quantile(0.25)))"
   ]
  },
  {
   "cell_type": "code",
   "execution_count": 29,
   "metadata": {},
   "outputs": [],
   "source": [
    "retail = retail[(retail['LastPurchase'] <= UpperBoundary_purchase) & (retail['LastPurchase'] >= lowerBoundary_purchase)]"
   ]
  },
  {
   "cell_type": "code",
   "execution_count": 30,
   "metadata": {},
   "outputs": [
    {
     "data": {
      "text/html": [
       "<div>\n",
       "<style scoped>\n",
       "    .dataframe tbody tr th:only-of-type {\n",
       "        vertical-align: middle;\n",
       "    }\n",
       "\n",
       "    .dataframe tbody tr th {\n",
       "        vertical-align: top;\n",
       "    }\n",
       "\n",
       "    .dataframe thead th {\n",
       "        text-align: right;\n",
       "    }\n",
       "</style>\n",
       "<table border=\"1\" class=\"dataframe\">\n",
       "  <thead>\n",
       "    <tr style=\"text-align: right;\">\n",
       "      <th></th>\n",
       "      <th>CustomerID</th>\n",
       "      <th>LastPurchase</th>\n",
       "      <th>Freq</th>\n",
       "      <th>Totalprice</th>\n",
       "    </tr>\n",
       "  </thead>\n",
       "  <tbody>\n",
       "    <tr>\n",
       "      <th>0</th>\n",
       "      <td>12346</td>\n",
       "      <td>326</td>\n",
       "      <td>2</td>\n",
       "      <td>0.00</td>\n",
       "    </tr>\n",
       "    <tr>\n",
       "      <th>1</th>\n",
       "      <td>12347</td>\n",
       "      <td>2</td>\n",
       "      <td>182</td>\n",
       "      <td>4310.00</td>\n",
       "    </tr>\n",
       "    <tr>\n",
       "      <th>2</th>\n",
       "      <td>12348</td>\n",
       "      <td>75</td>\n",
       "      <td>31</td>\n",
       "      <td>1797.24</td>\n",
       "    </tr>\n",
       "    <tr>\n",
       "      <th>3</th>\n",
       "      <td>12349</td>\n",
       "      <td>19</td>\n",
       "      <td>73</td>\n",
       "      <td>1757.55</td>\n",
       "    </tr>\n",
       "    <tr>\n",
       "      <th>4</th>\n",
       "      <td>12350</td>\n",
       "      <td>310</td>\n",
       "      <td>17</td>\n",
       "      <td>334.40</td>\n",
       "    </tr>\n",
       "  </tbody>\n",
       "</table>\n",
       "</div>"
      ],
      "text/plain": [
       "  CustomerID  LastPurchase  Freq  Totalprice\n",
       "0      12346           326     2        0.00\n",
       "1      12347             2   182     4310.00\n",
       "2      12348            75    31     1797.24\n",
       "3      12349            19    73     1757.55\n",
       "4      12350           310    17      334.40"
      ]
     },
     "execution_count": 30,
     "metadata": {},
     "output_type": "execute_result"
    }
   ],
   "source": [
    "retail.head()"
   ]
  },
  {
   "cell_type": "code",
   "execution_count": 31,
   "metadata": {},
   "outputs": [
    {
     "data": {
      "text/plain": [
       "Text(0.5, 1.0, 'Box plot for Frequency of Purchase')"
      ]
     },
     "execution_count": 31,
     "metadata": {},
     "output_type": "execute_result"
    },
    {
     "data": {
      "image/png": "[encoded data removed]",
      "text/plain": [
       "<Figure size 576x432 with 1 Axes>"
      ]
     },
     "metadata": {
      "needs_background": "light"
     },
     "output_type": "display_data"
    }
   ],
   "source": [
    "plt.figure(figsize=(8,6))\n",
    "sns.boxplot(y='Freq',data=retail)\n",
    "plt.title(\"Box plot for Frequency of Purchase\")"
   ]
  },
  {
   "cell_type": "code",
   "execution_count": 32,
   "metadata": {},
   "outputs": [],
   "source": [
    "lowerBoundary_Freq = retail['Freq'].quantile(0.25) - (1.5*(retail['Freq'].quantile(0.75)-retail['Freq'].quantile(0.25)))"
   ]
  },
  {
   "cell_type": "code",
   "execution_count": 33,
   "metadata": {},
   "outputs": [],
   "source": [
    "UpperBoundary_Freq = retail['Freq'].quantile(0.75) + (1.5*(retail['Freq'].quantile(0.75)-retail['Freq'].quantile(0.25)))"
   ]
  },
  {
   "cell_type": "code",
   "execution_count": 34,
   "metadata": {},
   "outputs": [],
   "source": [
    "retail = retail[(retail['Freq'] <= UpperBoundary_Freq) & (retail['Freq'] >= lowerBoundary_Freq)]"
   ]
  },
  {
   "cell_type": "code",
   "execution_count": 35,
   "metadata": {},
   "outputs": [
    {
     "data": {
      "text/html": [
       "<div>\n",
       "<style scoped>\n",
       "    .dataframe tbody tr th:only-of-type {\n",
       "        vertical-align: middle;\n",
       "    }\n",
       "\n",
       "    .dataframe tbody tr th {\n",
       "        vertical-align: top;\n",
       "    }\n",
       "\n",
       "    .dataframe thead th {\n",
       "        text-align: right;\n",
       "    }\n",
       "</style>\n",
       "<table border=\"1\" class=\"dataframe\">\n",
       "  <thead>\n",
       "    <tr style=\"text-align: right;\">\n",
       "      <th></th>\n",
       "      <th>CustomerID</th>\n",
       "      <th>LastPurchase</th>\n",
       "      <th>Freq</th>\n",
       "      <th>Totalprice</th>\n",
       "    </tr>\n",
       "  </thead>\n",
       "  <tbody>\n",
       "    <tr>\n",
       "      <th>0</th>\n",
       "      <td>12346</td>\n",
       "      <td>326</td>\n",
       "      <td>2</td>\n",
       "      <td>0.00</td>\n",
       "    </tr>\n",
       "    <tr>\n",
       "      <th>1</th>\n",
       "      <td>12347</td>\n",
       "      <td>2</td>\n",
       "      <td>182</td>\n",
       "      <td>4310.00</td>\n",
       "    </tr>\n",
       "    <tr>\n",
       "      <th>2</th>\n",
       "      <td>12348</td>\n",
       "      <td>75</td>\n",
       "      <td>31</td>\n",
       "      <td>1797.24</td>\n",
       "    </tr>\n",
       "    <tr>\n",
       "      <th>3</th>\n",
       "      <td>12349</td>\n",
       "      <td>19</td>\n",
       "      <td>73</td>\n",
       "      <td>1757.55</td>\n",
       "    </tr>\n",
       "    <tr>\n",
       "      <th>4</th>\n",
       "      <td>12350</td>\n",
       "      <td>310</td>\n",
       "      <td>17</td>\n",
       "      <td>334.40</td>\n",
       "    </tr>\n",
       "  </tbody>\n",
       "</table>\n",
       "</div>"
      ],
      "text/plain": [
       "  CustomerID  LastPurchase  Freq  Totalprice\n",
       "0      12346           326     2        0.00\n",
       "1      12347             2   182     4310.00\n",
       "2      12348            75    31     1797.24\n",
       "3      12349            19    73     1757.55\n",
       "4      12350           310    17      334.40"
      ]
     },
     "execution_count": 35,
     "metadata": {},
     "output_type": "execute_result"
    }
   ],
   "source": [
    "retail.head()"
   ]
  },
  {
   "cell_type": "code",
   "execution_count": 36,
   "metadata": {},
   "outputs": [
    {
     "data": {
      "text/plain": [
       "Text(0.5, 1.0, 'Box plot for Total Price')"
      ]
     },
     "execution_count": 36,
     "metadata": {},
     "output_type": "execute_result"
    },
    {
     "data": {
      "image/png": "[encoded data removed]",
      "text/plain": [
       "<Figure size 576x432 with 1 Axes>"
      ]
     },
     "metadata": {
      "needs_background": "light"
     },
     "output_type": "display_data"
    }
   ],
   "source": [
    "plt.figure(figsize=(8,6))\n",
    "sns.boxplot(y='Totalprice',data=retail)\n",
    "plt.title(\"Box plot for Total Price\")"
   ]
  },
  {
   "cell_type": "code",
   "execution_count": 37,
   "metadata": {},
   "outputs": [],
   "source": [
    "lowerBoundary_TP = retail['Totalprice'].quantile(0.25) - (1.5*(retail['Totalprice'].quantile(0.75)-retail['Totalprice'].quantile(0.25)))"
   ]
  },
  {
   "cell_type": "code",
   "execution_count": 38,
   "metadata": {},
   "outputs": [],
   "source": [
    "UpperBoundary_TP = retail['Totalprice'].quantile(0.75) + (1.5*(retail['Totalprice'].quantile(0.75)-retail['Totalprice'].quantile(0.25)))"
   ]
  },
  {
   "cell_type": "code",
   "execution_count": 39,
   "metadata": {},
   "outputs": [],
   "source": [
    "retail = retail[(retail['Totalprice'] <= UpperBoundary_TP) & (retail['Totalprice'] >= lowerBoundary_TP)]"
   ]
  },
  {
   "cell_type": "code",
   "execution_count": 40,
   "metadata": {},
   "outputs": [
    {
     "data": {
      "text/html": [
       "<div>\n",
       "<style scoped>\n",
       "    .dataframe tbody tr th:only-of-type {\n",
       "        vertical-align: middle;\n",
       "    }\n",
       "\n",
       "    .dataframe tbody tr th {\n",
       "        vertical-align: top;\n",
       "    }\n",
       "\n",
       "    .dataframe thead th {\n",
       "        text-align: right;\n",
       "    }\n",
       "</style>\n",
       "<table border=\"1\" class=\"dataframe\">\n",
       "  <thead>\n",
       "    <tr style=\"text-align: right;\">\n",
       "      <th></th>\n",
       "      <th>CustomerID</th>\n",
       "      <th>LastPurchase</th>\n",
       "      <th>Freq</th>\n",
       "      <th>Totalprice</th>\n",
       "    </tr>\n",
       "  </thead>\n",
       "  <tbody>\n",
       "    <tr>\n",
       "      <th>0</th>\n",
       "      <td>12346</td>\n",
       "      <td>326</td>\n",
       "      <td>2</td>\n",
       "      <td>0.00</td>\n",
       "    </tr>\n",
       "    <tr>\n",
       "      <th>2</th>\n",
       "      <td>12348</td>\n",
       "      <td>75</td>\n",
       "      <td>31</td>\n",
       "      <td>1797.24</td>\n",
       "    </tr>\n",
       "    <tr>\n",
       "      <th>3</th>\n",
       "      <td>12349</td>\n",
       "      <td>19</td>\n",
       "      <td>73</td>\n",
       "      <td>1757.55</td>\n",
       "    </tr>\n",
       "    <tr>\n",
       "      <th>4</th>\n",
       "      <td>12350</td>\n",
       "      <td>310</td>\n",
       "      <td>17</td>\n",
       "      <td>334.40</td>\n",
       "    </tr>\n",
       "    <tr>\n",
       "      <th>5</th>\n",
       "      <td>12352</td>\n",
       "      <td>36</td>\n",
       "      <td>95</td>\n",
       "      <td>1545.41</td>\n",
       "    </tr>\n",
       "  </tbody>\n",
       "</table>\n",
       "</div>"
      ],
      "text/plain": [
       "  CustomerID  LastPurchase  Freq  Totalprice\n",
       "0      12346           326     2        0.00\n",
       "2      12348            75    31     1797.24\n",
       "3      12349            19    73     1757.55\n",
       "4      12350           310    17      334.40\n",
       "5      12352            36    95     1545.41"
      ]
     },
     "execution_count": 40,
     "metadata": {},
     "output_type": "execute_result"
    }
   ],
   "source": [
    "retail.head()"
   ]
  },
  {
   "cell_type": "code",
   "execution_count": 41,
   "metadata": {},
   "outputs": [
    {
     "data": {
      "text/plain": [
       "(3537, 4)"
      ]
     },
     "execution_count": 41,
     "metadata": {},
     "output_type": "execute_result"
    }
   ],
   "source": [
    "retail.shape"
   ]
  },
  {
   "cell_type": "code",
   "execution_count": 42,
   "metadata": {},
   "outputs": [],
   "source": [
    "retail.reset_index(drop=True,inplace=True)"
   ]
  },
  {
   "cell_type": "code",
   "execution_count": 43,
   "metadata": {},
   "outputs": [],
   "source": [
    "retail_unscaled = retail.copy()"
   ]
  },
  {
   "cell_type": "markdown",
   "metadata": {},
   "source": [
    "#### Once all outliers are removed from the original data we can proceed for the K-means clustering"
   ]
  },
  {
   "cell_type": "markdown",
   "metadata": {},
   "source": [
    "# Scaling the data"
   ]
  },
  {
   "cell_type": "code",
   "execution_count": 44,
   "metadata": {},
   "outputs": [],
   "source": [
    "from sklearn.preprocessing import StandardScaler\n",
    "sc = StandardScaler()\n",
    "for i in ['LastPurchase','Freq','Totalprice']:\n",
    "    retail[[i]] = sc.fit_transform(retail[[i]])"
   ]
  },
  {
   "cell_type": "code",
   "execution_count": 45,
   "metadata": {},
   "outputs": [
    {
     "data": {
      "text/html": [
       "<div>\n",
       "<style scoped>\n",
       "    .dataframe tbody tr th:only-of-type {\n",
       "        vertical-align: middle;\n",
       "    }\n",
       "\n",
       "    .dataframe tbody tr th {\n",
       "        vertical-align: top;\n",
       "    }\n",
       "\n",
       "    .dataframe thead th {\n",
       "        text-align: right;\n",
       "    }\n",
       "</style>\n",
       "<table border=\"1\" class=\"dataframe\">\n",
       "  <thead>\n",
       "    <tr style=\"text-align: right;\">\n",
       "      <th></th>\n",
       "      <th>CustomerID</th>\n",
       "      <th>LastPurchase</th>\n",
       "      <th>Freq</th>\n",
       "      <th>Totalprice</th>\n",
       "    </tr>\n",
       "  </thead>\n",
       "  <tbody>\n",
       "    <tr>\n",
       "      <th>0</th>\n",
       "      <td>12346</td>\n",
       "      <td>2.547800</td>\n",
       "      <td>-1.027424</td>\n",
       "      <td>-1.154439</td>\n",
       "    </tr>\n",
       "    <tr>\n",
       "      <th>1</th>\n",
       "      <td>12348</td>\n",
       "      <td>-0.201279</td>\n",
       "      <td>-0.403295</td>\n",
       "      <td>1.616481</td>\n",
       "    </tr>\n",
       "    <tr>\n",
       "      <th>2</th>\n",
       "      <td>12349</td>\n",
       "      <td>-0.814619</td>\n",
       "      <td>0.500614</td>\n",
       "      <td>1.555289</td>\n",
       "    </tr>\n",
       "    <tr>\n",
       "      <th>3</th>\n",
       "      <td>12350</td>\n",
       "      <td>2.372560</td>\n",
       "      <td>-0.704599</td>\n",
       "      <td>-0.638873</td>\n",
       "    </tr>\n",
       "    <tr>\n",
       "      <th>4</th>\n",
       "      <td>12352</td>\n",
       "      <td>-0.628427</td>\n",
       "      <td>0.974091</td>\n",
       "      <td>1.228219</td>\n",
       "    </tr>\n",
       "  </tbody>\n",
       "</table>\n",
       "</div>"
      ],
      "text/plain": [
       "  CustomerID  LastPurchase      Freq  Totalprice\n",
       "0      12346      2.547800 -1.027424   -1.154439\n",
       "1      12348     -0.201279 -0.403295    1.616481\n",
       "2      12349     -0.814619  0.500614    1.555289\n",
       "3      12350      2.372560 -0.704599   -0.638873\n",
       "4      12352     -0.628427  0.974091    1.228219"
      ]
     },
     "execution_count": 45,
     "metadata": {},
     "output_type": "execute_result"
    }
   ],
   "source": [
    "retail.head()"
   ]
  },
  {
   "cell_type": "code",
   "execution_count": 46,
   "metadata": {},
   "outputs": [],
   "source": [
    "retail.set_index('CustomerID',drop=True,inplace=True)"
   ]
  },
  {
   "cell_type": "code",
   "execution_count": 47,
   "metadata": {},
   "outputs": [
    {
     "data": {
      "text/html": [
       "<div>\n",
       "<style scoped>\n",
       "    .dataframe tbody tr th:only-of-type {\n",
       "        vertical-align: middle;\n",
       "    }\n",
       "\n",
       "    .dataframe tbody tr th {\n",
       "        vertical-align: top;\n",
       "    }\n",
       "\n",
       "    .dataframe thead th {\n",
       "        text-align: right;\n",
       "    }\n",
       "</style>\n",
       "<table border=\"1\" class=\"dataframe\">\n",
       "  <thead>\n",
       "    <tr style=\"text-align: right;\">\n",
       "      <th></th>\n",
       "      <th>LastPurchase</th>\n",
       "      <th>Freq</th>\n",
       "      <th>Totalprice</th>\n",
       "    </tr>\n",
       "    <tr>\n",
       "      <th>CustomerID</th>\n",
       "      <th></th>\n",
       "      <th></th>\n",
       "      <th></th>\n",
       "    </tr>\n",
       "  </thead>\n",
       "  <tbody>\n",
       "    <tr>\n",
       "      <th>12346</th>\n",
       "      <td>2.547800</td>\n",
       "      <td>-1.027424</td>\n",
       "      <td>-1.154439</td>\n",
       "    </tr>\n",
       "    <tr>\n",
       "      <th>12348</th>\n",
       "      <td>-0.201279</td>\n",
       "      <td>-0.403295</td>\n",
       "      <td>1.616481</td>\n",
       "    </tr>\n",
       "    <tr>\n",
       "      <th>12349</th>\n",
       "      <td>-0.814619</td>\n",
       "      <td>0.500614</td>\n",
       "      <td>1.555289</td>\n",
       "    </tr>\n",
       "    <tr>\n",
       "      <th>12350</th>\n",
       "      <td>2.372560</td>\n",
       "      <td>-0.704599</td>\n",
       "      <td>-0.638873</td>\n",
       "    </tr>\n",
       "    <tr>\n",
       "      <th>12352</th>\n",
       "      <td>-0.628427</td>\n",
       "      <td>0.974091</td>\n",
       "      <td>1.228219</td>\n",
       "    </tr>\n",
       "  </tbody>\n",
       "</table>\n",
       "</div>"
      ],
      "text/plain": [
       "            LastPurchase      Freq  Totalprice\n",
       "CustomerID                                    \n",
       "12346           2.547800 -1.027424   -1.154439\n",
       "12348          -0.201279 -0.403295    1.616481\n",
       "12349          -0.814619  0.500614    1.555289\n",
       "12350           2.372560 -0.704599   -0.638873\n",
       "12352          -0.628427  0.974091    1.228219"
      ]
     },
     "execution_count": 47,
     "metadata": {},
     "output_type": "execute_result"
    }
   ],
   "source": [
    "retail.head()"
   ]
  },
  {
   "cell_type": "markdown",
   "metadata": {},
   "source": [
    "**So, the data preparation is now complete. So, let’s reiterate the steps involved in data preparation:**\n",
    "\n",
    "$-->$ Missing value treatment\n",
    "\n",
    "$-->$ Transforming data from Order-level to Customer-level\n",
    "\n",
    "$-->$ Calculation of RFM values\n",
    "\n",
    "$-->$ Outlier treatment\n",
    "\n",
    "$-->$ Standardisation of data"
   ]
  },
  {
   "cell_type": "markdown",
   "metadata": {},
   "source": [
    "# Model Building"
   ]
  },
  {
   "cell_type": "code",
   "execution_count": 48,
   "metadata": {},
   "outputs": [],
   "source": [
    "from sklearn.cluster import KMeans"
   ]
  },
  {
   "cell_type": "markdown",
   "metadata": {},
   "source": [
    "**n_clusters:** The number of clusters to form as well as the number of centroids to generate\n",
    "\n",
    "**init:** Method for initialization of the cluster centres\n",
    "\n",
    "**n_init:** Number of time the k-means algorithm will be run with different centroid seeds. The final results will be the best output of n_init consecutive runs in terms of inertia (explained below).\n",
    "\n",
    "**max_iter:** Maximum number of iterations of the k-means algorithm for a single run in case it doesn't converge on its own"
   ]
  },
  {
   "cell_type": "code",
   "execution_count": 49,
   "metadata": {},
   "outputs": [],
   "source": [
    "cluster = KMeans(n_clusters=3,init='random',n_init=10,max_iter=50).fit(retail)"
   ]
  },
  {
   "cell_type": "code",
   "execution_count": 50,
   "metadata": {},
   "outputs": [
    {
     "data": {
      "text/html": [
       "<div>\n",
       "<style scoped>\n",
       "    .dataframe tbody tr th:only-of-type {\n",
       "        vertical-align: middle;\n",
       "    }\n",
       "\n",
       "    .dataframe tbody tr th {\n",
       "        vertical-align: top;\n",
       "    }\n",
       "\n",
       "    .dataframe thead th {\n",
       "        text-align: right;\n",
       "    }\n",
       "</style>\n",
       "<table border=\"1\" class=\"dataframe\">\n",
       "  <thead>\n",
       "    <tr style=\"text-align: right;\">\n",
       "      <th></th>\n",
       "      <th>LastPurchase</th>\n",
       "      <th>Freq</th>\n",
       "      <th>Totalprice</th>\n",
       "    </tr>\n",
       "    <tr>\n",
       "      <th>CustomerID</th>\n",
       "      <th></th>\n",
       "      <th></th>\n",
       "      <th></th>\n",
       "    </tr>\n",
       "  </thead>\n",
       "  <tbody>\n",
       "    <tr>\n",
       "      <th>12346</th>\n",
       "      <td>2.547800</td>\n",
       "      <td>-1.027424</td>\n",
       "      <td>-1.154439</td>\n",
       "    </tr>\n",
       "    <tr>\n",
       "      <th>12348</th>\n",
       "      <td>-0.201279</td>\n",
       "      <td>-0.403295</td>\n",
       "      <td>1.616481</td>\n",
       "    </tr>\n",
       "    <tr>\n",
       "      <th>12349</th>\n",
       "      <td>-0.814619</td>\n",
       "      <td>0.500614</td>\n",
       "      <td>1.555289</td>\n",
       "    </tr>\n",
       "    <tr>\n",
       "      <th>12350</th>\n",
       "      <td>2.372560</td>\n",
       "      <td>-0.704599</td>\n",
       "      <td>-0.638873</td>\n",
       "    </tr>\n",
       "    <tr>\n",
       "      <th>12352</th>\n",
       "      <td>-0.628427</td>\n",
       "      <td>0.974091</td>\n",
       "      <td>1.228219</td>\n",
       "    </tr>\n",
       "  </tbody>\n",
       "</table>\n",
       "</div>"
      ],
      "text/plain": [
       "            LastPurchase      Freq  Totalprice\n",
       "CustomerID                                    \n",
       "12346           2.547800 -1.027424   -1.154439\n",
       "12348          -0.201279 -0.403295    1.616481\n",
       "12349          -0.814619  0.500614    1.555289\n",
       "12350           2.372560 -0.704599   -0.638873\n",
       "12352          -0.628427  0.974091    1.228219"
      ]
     },
     "execution_count": 50,
     "metadata": {},
     "output_type": "execute_result"
    }
   ],
   "source": [
    "retail.head()"
   ]
  },
  {
   "cell_type": "markdown",
   "metadata": {},
   "source": [
    "Let's now try to understand the output of the KMeans() function.\n",
    "\n",
    "**cluster_centers:** Coordinates of cluster centres\n",
    "\n",
    "**labels:** Labels of each point i.e. the labels to which the points belong\n",
    "\n",
    "**inertia:** Sum of squared distances of points to their closest cluster centre\n",
    "\n",
    "https://www.codecademy.com/learn/machine-learning/modules/dspath-clustering/cheatsheet\n",
    "\n",
    "https://towardsdatascience.com/k-means-clustering-from-a-to-z-f6242a314e9a"
   ]
  },
  {
   "cell_type": "code",
   "execution_count": 51,
   "metadata": {},
   "outputs": [],
   "source": [
    "ssd = []\n",
    "for i in range(1,21,1):\n",
    "    cluster = KMeans(n_clusters=i,max_iter=50).fit(retail)\n",
    "    ssd.append(cluster.inertia_)"
   ]
  },
  {
   "cell_type": "code",
   "execution_count": 52,
   "metadata": {},
   "outputs": [
    {
     "data": {
      "text/plain": [
       "Text(0, 0.5, 'Inertia')"
      ]
     },
     "execution_count": 52,
     "metadata": {},
     "output_type": "execute_result"
    },
    {
     "data": {
      "image/png": "[encoded data removed]",
      "text/plain": [
       "<Figure size 432x288 with 1 Axes>"
      ]
     },
     "metadata": {
      "needs_background": "light"
     },
     "output_type": "display_data"
    }
   ],
   "source": [
    "plt.plot(ssd,marker='o')\n",
    "plt.title(\"Elbow Graph\")\n",
    "plt.xlabel(\"No of clusters\")\n",
    "plt.ylabel(\"Inertia\")"
   ]
  },
  {
   "cell_type": "markdown",
   "metadata": {},
   "source": [
    "Now from the above graph we can now choose a value from 4 to 8 as an optimal K .After 5 there is not much change in the inertial.So we can choose optimal cluster K as 5."
   ]
  },
  {
   "cell_type": "code",
   "execution_count": 62,
   "metadata": {},
   "outputs": [
    {
     "name": "stdout",
     "output_type": "stream",
     "text": [
      "Initialization complete\n",
      "Iteration 0, inertia 2425.7232767233004\n",
      "Iteration 1, inertia 2039.500052911733\n",
      "Iteration 2, inertia 1955.0779678953982\n",
      "Iteration 3, inertia 1926.5909377202765\n",
      "Iteration 4, inertia 1911.5878957849563\n",
      "Iteration 5, inertia 1897.6255677698664\n",
      "Iteration 6, inertia 1879.3454429937026\n",
      "Iteration 7, inertia 1854.9172871931241\n",
      "Iteration 8, inertia 1837.3581481336366\n",
      "Iteration 9, inertia 1823.9547535193208\n",
      "Iteration 10, inertia 1814.705807160041\n",
      "Iteration 11, inertia 1805.3040368398144\n",
      "Iteration 12, inertia 1799.520010719491\n",
      "Iteration 13, inertia 1794.8563575746969\n",
      "Iteration 14, inertia 1790.2942824013496\n",
      "Iteration 15, inertia 1786.6073567593276\n",
      "Iteration 16, inertia 1783.0757053627992\n",
      "Iteration 17, inertia 1778.4743646020613\n",
      "Iteration 18, inertia 1774.6580442005052\n",
      "Iteration 19, inertia 1772.2851498039374\n",
      "Iteration 20, inertia 1769.7843113412964\n",
      "Iteration 21, inertia 1767.6404686694075\n",
      "Iteration 22, inertia 1765.7773726957591\n",
      "Iteration 23, inertia 1764.598314212852\n",
      "Iteration 24, inertia 1764.0215761610227\n",
      "Iteration 25, inertia 1763.7431676684548\n",
      "Converged at iteration 25: center shift 8.252565779140196e-05 within tolerance 0.00010000000000000007.\n",
      "Initialization complete\n",
      "Iteration 0, inertia 2186.570562626869\n",
      "Iteration 1, inertia 1912.3807064718458\n",
      "Iteration 2, inertia 1882.3981576946746\n",
      "Iteration 3, inertia 1866.6547007209124\n",
      "Iteration 4, inertia 1855.7499139298448\n",
      "Iteration 5, inertia 1847.780774217384\n",
      "Iteration 6, inertia 1842.6930193473747\n",
      "Iteration 7, inertia 1839.4107658608823\n",
      "Iteration 8, inertia 1837.762478198569\n",
      "Iteration 9, inertia 1836.8709908186918\n",
      "Iteration 10, inertia 1836.08286244756\n",
      "Iteration 11, inertia 1835.5623527294415\n",
      "Iteration 12, inertia 1835.2890120982659\n",
      "Iteration 13, inertia 1835.0436853752617\n",
      "Iteration 14, inertia 1834.8838424628636\n",
      "Iteration 15, inertia 1834.4832569830576\n",
      "Iteration 16, inertia 1834.2251072119764\n",
      "Iteration 17, inertia 1833.846457674916\n",
      "Iteration 18, inertia 1833.46070006107\n",
      "Iteration 19, inertia 1833.1480276053255\n",
      "Iteration 20, inertia 1832.9043378581787\n",
      "Iteration 21, inertia 1832.446947519233\n",
      "Iteration 22, inertia 1831.7540337348619\n",
      "Iteration 23, inertia 1831.3643508181287\n",
      "Iteration 24, inertia 1830.8249664673735\n",
      "Iteration 25, inertia 1830.4273585787196\n",
      "Iteration 26, inertia 1830.0132150360073\n",
      "Iteration 27, inertia 1829.8210042293908\n",
      "Iteration 28, inertia 1829.685637541148\n",
      "Iteration 29, inertia 1829.5841147421331\n",
      "Iteration 30, inertia 1829.5206811819128\n",
      "Converged at iteration 30: center shift 1.893036138506566e-05 within tolerance 0.00010000000000000007.\n",
      "Initialization complete\n",
      "Iteration 0, inertia 2456.207868498105\n",
      "Iteration 1, inertia 1946.0412189636793\n",
      "Iteration 2, inertia 1876.7054582296473\n",
      "Iteration 3, inertia 1842.1343140646416\n",
      "Iteration 4, inertia 1819.1915021745654\n",
      "Iteration 5, inertia 1801.8768345828232\n",
      "Iteration 6, inertia 1790.8965499593078\n",
      "Iteration 7, inertia 1785.0362953542094\n",
      "Iteration 8, inertia 1781.7423836838134\n",
      "Iteration 9, inertia 1779.121273971657\n",
      "Iteration 10, inertia 1776.5944465634175\n",
      "Iteration 11, inertia 1772.7498106082078\n",
      "Iteration 12, inertia 1769.7743408828019\n",
      "Iteration 13, inertia 1768.7821074302567\n",
      "Iteration 14, inertia 1767.5766160119392\n",
      "Iteration 15, inertia 1766.199944989594\n",
      "Iteration 16, inertia 1765.34549001428\n",
      "Iteration 17, inertia 1764.70578720905\n",
      "Iteration 18, inertia 1764.3064263891674\n",
      "Iteration 19, inertia 1764.1089674780358\n",
      "Iteration 20, inertia 1763.8992287555407\n",
      "Iteration 21, inertia 1763.8008202587598\n",
      "Iteration 22, inertia 1763.6955248189536\n",
      "Converged at iteration 22: center shift 5.461610420663966e-05 within tolerance 0.00010000000000000007.\n",
      "Initialization complete\n",
      "Iteration 0, inertia 2341.7120882987947\n",
      "Iteration 1, inertia 1846.0064771560367\n",
      "Iteration 2, inertia 1804.2421914738986\n",
      "Iteration 3, inertia 1793.4348834101527\n",
      "Iteration 4, inertia 1788.8740993676122\n",
      "Iteration 5, inertia 1786.5528859585847\n",
      "Iteration 6, inertia 1785.2672202004956\n",
      "Iteration 7, inertia 1784.5148148863163\n",
      "Iteration 8, inertia 1784.2737045407162\n",
      "Converged at iteration 8: center shift 9.052023155936537e-05 within tolerance 0.00010000000000000007.\n",
      "Initialization complete\n",
      "Iteration 0, inertia 2365.019052465123\n",
      "Iteration 1, inertia 1943.3700282693706\n",
      "Iteration 2, inertia 1844.7231594206178\n",
      "Iteration 3, inertia 1798.1897980582376\n",
      "Iteration 4, inertia 1785.1752789090708\n",
      "Iteration 5, inertia 1780.5707185500364\n",
      "Iteration 6, inertia 1778.6034580383816\n",
      "Iteration 7, inertia 1777.901239759261\n",
      "Iteration 8, inertia 1777.2606171577706\n",
      "Iteration 9, inertia 1776.8811219362392\n",
      "Iteration 10, inertia 1776.1560963897314\n",
      "Iteration 11, inertia 1775.5480788479713\n",
      "Iteration 12, inertia 1774.795755905951\n",
      "Iteration 13, inertia 1774.264939881637\n",
      "Iteration 14, inertia 1773.7772385328383\n",
      "Iteration 15, inertia 1773.11074399877\n",
      "Iteration 16, inertia 1773.0216046609214\n",
      "Converged at iteration 16: center shift 9.819668940304879e-05 within tolerance 0.00010000000000000007.\n",
      "Initialization complete\n",
      "Iteration 0, inertia 2426.7060530232634\n",
      "Iteration 1, inertia 1983.5704702174314\n",
      "Iteration 2, inertia 1920.415168173486\n",
      "Iteration 3, inertia 1894.898835320054\n",
      "Iteration 4, inertia 1883.3891601723951\n",
      "Iteration 5, inertia 1875.9782664773545\n",
      "Iteration 6, inertia 1870.0824297625047\n",
      "Iteration 7, inertia 1866.8686298956638\n",
      "Iteration 8, inertia 1866.6747429581526\n",
      "Iteration 9, inertia 1866.068661560791\n",
      "Iteration 10, inertia 1865.8206374389529\n",
      "Iteration 11, inertia 1865.665962203941\n",
      "Iteration 12, inertia 1865.5462282845397\n",
      "Iteration 13, inertia 1865.370530894363\n",
      "Iteration 14, inertia 1864.7135121740064\n",
      "Iteration 15, inertia 1863.9131597851608\n",
      "Iteration 16, inertia 1862.7126372779194\n",
      "Iteration 17, inertia 1861.315822806102\n",
      "Iteration 18, inertia 1859.5083571107436\n",
      "Iteration 19, inertia 1856.8701376537363\n",
      "Iteration 20, inertia 1851.1381442129398\n",
      "Iteration 21, inertia 1844.9567156704002\n",
      "Iteration 22, inertia 1838.7572245555173\n",
      "Iteration 23, inertia 1833.5493840451607\n",
      "Iteration 24, inertia 1829.7310395179352\n",
      "Iteration 25, inertia 1827.7483188504455\n",
      "Iteration 26, inertia 1826.4964563493552\n",
      "Iteration 27, inertia 1826.0585472320172\n",
      "Iteration 28, inertia 1825.9275909961532\n",
      "Iteration 29, inertia 1825.78870206025\n",
      "Iteration 30, inertia 1825.6904085624656\n",
      "Iteration 31, inertia 1825.6230024098963\n",
      "Converged at iteration 31: center shift 4.924269950111868e-05 within tolerance 0.00010000000000000007.\n",
      "Initialization complete\n",
      "Iteration 0, inertia 2653.2003725414233\n",
      "Iteration 1, inertia 1947.1368504616582\n",
      "Iteration 2, inertia 1885.6135471718856\n",
      "Iteration 3, inertia 1838.5660296981969\n",
      "Iteration 4, inertia 1808.0110275505747\n",
      "Iteration 5, inertia 1792.2585950870566\n",
      "Iteration 6, inertia 1781.8464004407592\n",
      "Iteration 7, inertia 1779.5083770038736\n",
      "Iteration 8, inertia 1778.4944030920428\n",
      "Iteration 9, inertia 1778.1347218873163\n",
      "Iteration 10, inertia 1777.5126827670604\n",
      "Iteration 11, inertia 1776.9401776036377\n",
      "Iteration 12, inertia 1776.6554137199475\n",
      "Iteration 13, inertia 1776.50594502523\n",
      "Iteration 14, inertia 1776.4180836017545\n",
      "Iteration 15, inertia 1776.3774658733682\n",
      "Converged at iteration 15: center shift 6.02826280631508e-05 within tolerance 0.00010000000000000007.\n",
      "Initialization complete\n",
      "Iteration 0, inertia 2254.3385788792075\n",
      "Iteration 1, inertia 2023.257676814185\n",
      "Iteration 2, inertia 1983.4338679715424\n",
      "Iteration 3, inertia 1966.97946602907\n",
      "Iteration 4, inertia 1955.5652640859837\n",
      "Iteration 5, inertia 1945.203221509433\n",
      "Iteration 6, inertia 1931.7450270578663\n",
      "Iteration 7, inertia 1913.559851142901\n",
      "Iteration 8, inertia 1890.1670939296835\n",
      "Iteration 9, inertia 1860.8563692756434\n",
      "Iteration 10, inertia 1827.1935472622415\n",
      "Iteration 11, inertia 1800.6019228341415\n",
      "Iteration 12, inertia 1788.6035590262534\n",
      "Iteration 13, inertia 1784.4279124114196\n",
      "Iteration 14, inertia 1781.8309604037088\n",
      "Iteration 15, inertia 1780.4924246189337\n",
      "Iteration 16, inertia 1779.9566339007063\n",
      "Iteration 17, inertia 1779.2385475955844\n",
      "Iteration 18, inertia 1778.7024528254105\n",
      "Iteration 19, inertia 1778.5609874081103\n",
      "Iteration 20, inertia 1778.1805311981561\n",
      "Iteration 21, inertia 1777.7584241310049\n",
      "Iteration 22, inertia 1777.4568311104642\n",
      "Iteration 23, inertia 1777.125231311696\n",
      "Iteration 24, inertia 1776.8467399783858\n",
      "Iteration 25, inertia 1776.6254412989506\n",
      "Iteration 26, inertia 1776.4303960285292\n",
      "Iteration 27, inertia 1776.3367108197397\n",
      "Iteration 28, inertia 1776.2639749917826\n",
      "Converged at iteration 28: center shift 1.0273924380501253e-05 within tolerance 0.00010000000000000007.\n",
      "Initialization complete\n",
      "Iteration 0, inertia 2381.554219396723\n",
      "Iteration 1, inertia 1928.763048328528\n",
      "Iteration 2, inertia 1882.8563328618875\n",
      "Iteration 3, inertia 1859.6996925547087\n",
      "Iteration 4, inertia 1839.4825892345418\n",
      "Iteration 5, inertia 1822.0452114545792\n",
      "Iteration 6, inertia 1805.6535410570257\n",
      "Iteration 7, inertia 1797.9737535123377\n",
      "Iteration 8, inertia 1792.6547709009756\n",
      "Iteration 9, inertia 1787.481839616089\n",
      "Iteration 10, inertia 1784.4661159340012\n",
      "Iteration 11, inertia 1783.3070962166498\n",
      "Iteration 12, inertia 1781.9806984460322\n",
      "Iteration 13, inertia 1780.9766123017741\n",
      "Iteration 14, inertia 1780.154208812044\n",
      "Iteration 15, inertia 1779.5356726135265\n",
      "Iteration 16, inertia 1778.972679404536\n",
      "Iteration 17, inertia 1778.400222285113\n",
      "Iteration 18, inertia 1778.2398258342544\n",
      "Iteration 19, inertia 1778.0301279153673\n",
      "Iteration 20, inertia 1777.8114416239023\n",
      "Iteration 21, inertia 1777.5942091883062\n",
      "Iteration 22, inertia 1777.4855636189561\n",
      "Iteration 23, inertia 1777.3653613507076\n",
      "Iteration 24, inertia 1777.2307188364387\n",
      "Iteration 25, inertia 1777.0584705181261\n",
      "Iteration 26, inertia 1776.7136492387683\n",
      "Iteration 27, inertia 1776.2972897441498\n",
      "Iteration 28, inertia 1776.1378525163077\n",
      "Iteration 29, inertia 1776.0291569712695\n",
      "Converged at iteration 29: center shift 4.04919988014025e-05 within tolerance 0.00010000000000000007.\n",
      "Initialization complete\n",
      "Iteration 0, inertia 2301.1089724481735\n",
      "Iteration 1, inertia 1902.678921800069\n",
      "Iteration 2, inertia 1847.7519270425835\n",
      "Iteration 3, inertia 1816.889977228135\n",
      "Iteration 4, inertia 1797.4579780672073\n",
      "Iteration 5, inertia 1785.4021829391677\n",
      "Iteration 6, inertia 1781.2541919519865\n",
      "Iteration 7, inertia 1779.752154635606\n",
      "Iteration 8, inertia 1779.0581474234361\n",
      "Iteration 9, inertia 1778.628327898918\n",
      "Iteration 10, inertia 1778.2872349290672\n",
      "Iteration 11, inertia 1778.0412074546978\n",
      "Iteration 12, inertia 1777.924461228801\n",
      "Iteration 13, inertia 1777.8436340398193\n",
      "Iteration 14, inertia 1777.7174472037898\n",
      "Iteration 15, inertia 1777.5047572658384\n",
      "Iteration 16, inertia 1777.292065082143\n",
      "Iteration 17, inertia 1776.9838473505347\n",
      "Iteration 18, inertia 1776.7259519133738\n",
      "Iteration 19, inertia 1776.6023787786996\n",
      "Iteration 20, inertia 1776.5001844416531\n",
      "Converged at iteration 20: center shift 4.0950070659000954e-05 within tolerance 0.00010000000000000007.\n"
     ]
    }
   ],
   "source": [
    "cluster = KMeans(n_clusters=8,max_iter=50,random_state=0,verbose=1).fit(retail)"
   ]
  },
  {
   "cell_type": "code",
   "execution_count": 63,
   "metadata": {},
   "outputs": [
    {
     "data": {
      "text/plain": [
       "array([2, 4, 4, ..., 6, 5, 4])"
      ]
     },
     "execution_count": 63,
     "metadata": {},
     "output_type": "execute_result"
    }
   ],
   "source": [
    "cluster.labels_"
   ]
  },
  {
   "cell_type": "code",
   "execution_count": 64,
   "metadata": {},
   "outputs": [],
   "source": [
    "clusterd_customers = pd.concat([retail_unscaled,pd.Series(cluster.labels_)],axis=1)"
   ]
  },
  {
   "cell_type": "code",
   "execution_count": 65,
   "metadata": {},
   "outputs": [],
   "source": [
    "clusterd_customers.columns = ['CustomerID', 'LastPurchase', 'Freq', 'Totalprice', 'ClusterLabel']"
   ]
  },
  {
   "cell_type": "code",
   "execution_count": 66,
   "metadata": {},
   "outputs": [
    {
     "data": {
      "text/html": [
       "<div>\n",
       "<style scoped>\n",
       "    .dataframe tbody tr th:only-of-type {\n",
       "        vertical-align: middle;\n",
       "    }\n",
       "\n",
       "    .dataframe tbody tr th {\n",
       "        vertical-align: top;\n",
       "    }\n",
       "\n",
       "    .dataframe thead th {\n",
       "        text-align: right;\n",
       "    }\n",
       "</style>\n",
       "<table border=\"1\" class=\"dataframe\">\n",
       "  <thead>\n",
       "    <tr style=\"text-align: right;\">\n",
       "      <th></th>\n",
       "      <th>CustomerID</th>\n",
       "      <th>LastPurchase</th>\n",
       "      <th>Freq</th>\n",
       "      <th>Totalprice</th>\n",
       "      <th>ClusterLabel</th>\n",
       "    </tr>\n",
       "  </thead>\n",
       "  <tbody>\n",
       "    <tr>\n",
       "      <th>3532</th>\n",
       "      <td>18278</td>\n",
       "      <td>74</td>\n",
       "      <td>9</td>\n",
       "      <td>173.90</td>\n",
       "      <td>5</td>\n",
       "    </tr>\n",
       "    <tr>\n",
       "      <th>3533</th>\n",
       "      <td>18280</td>\n",
       "      <td>278</td>\n",
       "      <td>10</td>\n",
       "      <td>180.60</td>\n",
       "      <td>2</td>\n",
       "    </tr>\n",
       "    <tr>\n",
       "      <th>3534</th>\n",
       "      <td>18281</td>\n",
       "      <td>181</td>\n",
       "      <td>7</td>\n",
       "      <td>80.82</td>\n",
       "      <td>6</td>\n",
       "    </tr>\n",
       "    <tr>\n",
       "      <th>3535</th>\n",
       "      <td>18282</td>\n",
       "      <td>8</td>\n",
       "      <td>13</td>\n",
       "      <td>176.60</td>\n",
       "      <td>5</td>\n",
       "    </tr>\n",
       "    <tr>\n",
       "      <th>3536</th>\n",
       "      <td>18287</td>\n",
       "      <td>43</td>\n",
       "      <td>70</td>\n",
       "      <td>1837.28</td>\n",
       "      <td>4</td>\n",
       "    </tr>\n",
       "  </tbody>\n",
       "</table>\n",
       "</div>"
      ],
      "text/plain": [
       "     CustomerID  LastPurchase  Freq  Totalprice  ClusterLabel\n",
       "3532      18278            74     9      173.90             5\n",
       "3533      18280           278    10      180.60             2\n",
       "3534      18281           181     7       80.82             6\n",
       "3535      18282             8    13      176.60             5\n",
       "3536      18287            43    70     1837.28             4"
      ]
     },
     "execution_count": 66,
     "metadata": {},
     "output_type": "execute_result"
    }
   ],
   "source": [
    "clusterd_customers.tail()"
   ]
  },
  {
   "cell_type": "code",
   "execution_count": 67,
   "metadata": {},
   "outputs": [
    {
     "data": {
      "text/plain": [
       "ClusterLabel\n",
       "0    162.144330\n",
       "1     58.481910\n",
       "2     17.670190\n",
       "3    132.278008\n",
       "4     65.670951\n",
       "5     18.892779\n",
       "6     19.925214\n",
       "7     69.964072\n",
       "Name: Freq, dtype: float64"
      ]
     },
     "execution_count": 67,
     "metadata": {},
     "output_type": "execute_result"
    }
   ],
   "source": [
    "clusterd_customers[['ClusterLabel','Freq']].groupby(by = ['ClusterLabel']).mean().Freq"
   ]
  },
  {
   "cell_type": "code",
   "execution_count": 68,
   "metadata": {},
   "outputs": [
    {
     "data": {
      "text/plain": [
       "Text(0.5, 1.0, 'Mean Frequency of Purchase for each cluster')"
      ]
     },
     "execution_count": 68,
     "metadata": {},
     "output_type": "execute_result"
    },
    {
     "data": {
      "image/png": "[encoded data removed]",
      "text/plain": [
       "<Figure size 432x288 with 1 Axes>"
      ]
     },
     "metadata": {
      "needs_background": "light"
     },
     "output_type": "display_data"
    }
   ],
   "source": [
    "sns.barplot(x=[0,1,2,3,4,5,6,7],y=clusterd_customers[['ClusterLabel','Freq']].groupby(by = ['ClusterLabel']).mean().Freq)\n",
    "plt.xlabel('Clusters')\n",
    "plt.title('Mean Frequency of Purchase for each cluster')"
   ]
  },
  {
   "cell_type": "code",
   "execution_count": 69,
   "metadata": {},
   "outputs": [
    {
     "data": {
      "text/plain": [
       "Text(0.5, 1.0, 'Mean Last Purchase for each cluster')"
      ]
     },
     "execution_count": 69,
     "metadata": {},
     "output_type": "execute_result"
    },
    {
     "data": {
      "image/png": "[encoded data removed]",
      "text/plain": [
       "<Figure size 432x288 with 1 Axes>"
      ]
     },
     "metadata": {
      "needs_background": "light"
     },
     "output_type": "display_data"
    }
   ],
   "source": [
    "sns.barplot(x=[0,1,2,3,4,5,6,7],y=clusterd_customers[['ClusterLabel','LastPurchase']].groupby(by = ['ClusterLabel']).mean().LastPurchase)\n",
    "plt.xlabel('Clusters')\n",
    "plt.title('Mean Last Purchase for each cluster')"
   ]
  },
  {
   "cell_type": "code",
   "execution_count": 70,
   "metadata": {},
   "outputs": [
    {
     "data": {
      "text/plain": [
       "Text(0.5, 1.0, 'Mean Totalprice for each cluster')"
      ]
     },
     "execution_count": 70,
     "metadata": {},
     "output_type": "execute_result"
    },
    {
     "data": {
      "image/png": "[encoded data removed]",
      "text/plain": [
       "<Figure size 432x288 with 1 Axes>"
      ]
     },
     "metadata": {
      "needs_background": "light"
     },
     "output_type": "display_data"
    }
   ],
   "source": [
    "sns.barplot(x=[0,1,2,3,4,5,6,7],y=clusterd_customers[['ClusterLabel','Totalprice']].groupby(by = ['ClusterLabel']).mean().Totalprice)\n",
    "plt.xlabel('Clusters')\n",
    "plt.title('Mean Totalprice for each cluster')"
   ]
  },
  {
   "cell_type": "markdown",
   "metadata": {},
   "source": [
    "# Hierarchial Clustering"
   ]
  },
  {
   "cell_type": "code",
   "execution_count": 71,
   "metadata": {},
   "outputs": [
    {
     "data": {
      "text/html": [
       "<div>\n",
       "<style scoped>\n",
       "    .dataframe tbody tr th:only-of-type {\n",
       "        vertical-align: middle;\n",
       "    }\n",
       "\n",
       "    .dataframe tbody tr th {\n",
       "        vertical-align: top;\n",
       "    }\n",
       "\n",
       "    .dataframe thead th {\n",
       "        text-align: right;\n",
       "    }\n",
       "</style>\n",
       "<table border=\"1\" class=\"dataframe\">\n",
       "  <thead>\n",
       "    <tr style=\"text-align: right;\">\n",
       "      <th></th>\n",
       "      <th>LastPurchase</th>\n",
       "      <th>Freq</th>\n",
       "      <th>Totalprice</th>\n",
       "    </tr>\n",
       "    <tr>\n",
       "      <th>CustomerID</th>\n",
       "      <th></th>\n",
       "      <th></th>\n",
       "      <th></th>\n",
       "    </tr>\n",
       "  </thead>\n",
       "  <tbody>\n",
       "    <tr>\n",
       "      <th>12346</th>\n",
       "      <td>2.547800</td>\n",
       "      <td>-1.027424</td>\n",
       "      <td>-1.154439</td>\n",
       "    </tr>\n",
       "    <tr>\n",
       "      <th>12348</th>\n",
       "      <td>-0.201279</td>\n",
       "      <td>-0.403295</td>\n",
       "      <td>1.616481</td>\n",
       "    </tr>\n",
       "    <tr>\n",
       "      <th>12349</th>\n",
       "      <td>-0.814619</td>\n",
       "      <td>0.500614</td>\n",
       "      <td>1.555289</td>\n",
       "    </tr>\n",
       "    <tr>\n",
       "      <th>12350</th>\n",
       "      <td>2.372560</td>\n",
       "      <td>-0.704599</td>\n",
       "      <td>-0.638873</td>\n",
       "    </tr>\n",
       "    <tr>\n",
       "      <th>12352</th>\n",
       "      <td>-0.628427</td>\n",
       "      <td>0.974091</td>\n",
       "      <td>1.228219</td>\n",
       "    </tr>\n",
       "  </tbody>\n",
       "</table>\n",
       "</div>"
      ],
      "text/plain": [
       "            LastPurchase      Freq  Totalprice\n",
       "CustomerID                                    \n",
       "12346           2.547800 -1.027424   -1.154439\n",
       "12348          -0.201279 -0.403295    1.616481\n",
       "12349          -0.814619  0.500614    1.555289\n",
       "12350           2.372560 -0.704599   -0.638873\n",
       "12352          -0.628427  0.974091    1.228219"
      ]
     },
     "execution_count": 71,
     "metadata": {},
     "output_type": "execute_result"
    }
   ],
   "source": [
    "retail.head()"
   ]
  },
  {
   "cell_type": "markdown",
   "metadata": {},
   "source": [
    "### Single linkage clustering (min distance)"
   ]
  },
  {
   "cell_type": "code",
   "execution_count": 89,
   "metadata": {},
   "outputs": [],
   "source": [
    "from scipy.cluster.hierarchy import dendrogram, linkage,cut_tree\n",
    "single_linkage_clustering = linkage(retail,method='single',metric='euclidean')\n",
    "#dendrogram(single_linkage_clustering)\n",
    "#plt.show()"
   ]
  },
  {
   "cell_type": "markdown",
   "metadata": {},
   "source": [
    "### Complete linkage clustering (max distance)"
   ]
  },
  {
   "cell_type": "code",
   "execution_count": 87,
   "metadata": {},
   "outputs": [
    {
     "data": {
      "image/png": "[encoded data removed]",
      "text/plain": [
       "<Figure size 432x288 with 1 Axes>"
      ]
     },
     "metadata": {
      "needs_background": "light"
     },
     "output_type": "display_data"
    }
   ],
   "source": [
    "complete_linkage_clustering = linkage(retail,method='complete',metric='euclidean')\n",
    "dendrogram(complete_linkage_clustering,color_threshold=4.5)\n",
    "plt.show()"
   ]
  },
  {
   "cell_type": "code",
   "execution_count": 90,
   "metadata": {},
   "outputs": [
    {
     "data": {
      "text/plain": [
       "array([[0],\n",
       "       [1],\n",
       "       [1],\n",
       "       ...,\n",
       "       [0],\n",
       "       [0],\n",
       "       [1]])"
      ]
     },
     "execution_count": 90,
     "metadata": {},
     "output_type": "execute_result"
    }
   ],
   "source": [
    "cut_tree(complete_linkage_clustering,n_clusters=5)"
   ]
  },
  {
   "cell_type": "code",
   "execution_count": 128,
   "metadata": {},
   "outputs": [],
   "source": [
    "clustered = pd.concat([retail_unscaled,pd.DataFrame(cut_tree(complete_linkage_clustering,n_clusters=5))],axis = 1)"
   ]
  },
  {
   "cell_type": "code",
   "execution_count": 129,
   "metadata": {},
   "outputs": [],
   "source": [
    "clustered.columns = ['CustomerId','LastPurchase', 'Freq', 'Totalprice', 'Label']"
   ]
  },
  {
   "cell_type": "code",
   "execution_count": 130,
   "metadata": {},
   "outputs": [
    {
     "data": {
      "text/html": [
       "<div>\n",
       "<style scoped>\n",
       "    .dataframe tbody tr th:only-of-type {\n",
       "        vertical-align: middle;\n",
       "    }\n",
       "\n",
       "    .dataframe tbody tr th {\n",
       "        vertical-align: top;\n",
       "    }\n",
       "\n",
       "    .dataframe thead th {\n",
       "        text-align: right;\n",
       "    }\n",
       "</style>\n",
       "<table border=\"1\" class=\"dataframe\">\n",
       "  <thead>\n",
       "    <tr style=\"text-align: right;\">\n",
       "      <th></th>\n",
       "      <th>CustomerId</th>\n",
       "      <th>LastPurchase</th>\n",
       "      <th>Freq</th>\n",
       "      <th>Totalprice</th>\n",
       "      <th>Label</th>\n",
       "    </tr>\n",
       "  </thead>\n",
       "  <tbody>\n",
       "    <tr>\n",
       "      <th>0</th>\n",
       "      <td>12346</td>\n",
       "      <td>326</td>\n",
       "      <td>2</td>\n",
       "      <td>0.00</td>\n",
       "      <td>0</td>\n",
       "    </tr>\n",
       "    <tr>\n",
       "      <th>1</th>\n",
       "      <td>12348</td>\n",
       "      <td>75</td>\n",
       "      <td>31</td>\n",
       "      <td>1797.24</td>\n",
       "      <td>1</td>\n",
       "    </tr>\n",
       "    <tr>\n",
       "      <th>2</th>\n",
       "      <td>12349</td>\n",
       "      <td>19</td>\n",
       "      <td>73</td>\n",
       "      <td>1757.55</td>\n",
       "      <td>1</td>\n",
       "    </tr>\n",
       "    <tr>\n",
       "      <th>3</th>\n",
       "      <td>12350</td>\n",
       "      <td>310</td>\n",
       "      <td>17</td>\n",
       "      <td>334.40</td>\n",
       "      <td>0</td>\n",
       "    </tr>\n",
       "    <tr>\n",
       "      <th>4</th>\n",
       "      <td>12352</td>\n",
       "      <td>36</td>\n",
       "      <td>95</td>\n",
       "      <td>1545.41</td>\n",
       "      <td>2</td>\n",
       "    </tr>\n",
       "    <tr>\n",
       "      <th>...</th>\n",
       "      <td>...</td>\n",
       "      <td>...</td>\n",
       "      <td>...</td>\n",
       "      <td>...</td>\n",
       "      <td>...</td>\n",
       "    </tr>\n",
       "    <tr>\n",
       "      <th>3532</th>\n",
       "      <td>18278</td>\n",
       "      <td>74</td>\n",
       "      <td>9</td>\n",
       "      <td>173.90</td>\n",
       "      <td>0</td>\n",
       "    </tr>\n",
       "    <tr>\n",
       "      <th>3533</th>\n",
       "      <td>18280</td>\n",
       "      <td>278</td>\n",
       "      <td>10</td>\n",
       "      <td>180.60</td>\n",
       "      <td>0</td>\n",
       "    </tr>\n",
       "    <tr>\n",
       "      <th>3534</th>\n",
       "      <td>18281</td>\n",
       "      <td>181</td>\n",
       "      <td>7</td>\n",
       "      <td>80.82</td>\n",
       "      <td>0</td>\n",
       "    </tr>\n",
       "    <tr>\n",
       "      <th>3535</th>\n",
       "      <td>18282</td>\n",
       "      <td>8</td>\n",
       "      <td>13</td>\n",
       "      <td>176.60</td>\n",
       "      <td>0</td>\n",
       "    </tr>\n",
       "    <tr>\n",
       "      <th>3536</th>\n",
       "      <td>18287</td>\n",
       "      <td>43</td>\n",
       "      <td>70</td>\n",
       "      <td>1837.28</td>\n",
       "      <td>1</td>\n",
       "    </tr>\n",
       "  </tbody>\n",
       "</table>\n",
       "<p>3537 rows × 5 columns</p>\n",
       "</div>"
      ],
      "text/plain": [
       "     CustomerId  LastPurchase  Freq  Totalprice  Label\n",
       "0         12346           326     2        0.00      0\n",
       "1         12348            75    31     1797.24      1\n",
       "2         12349            19    73     1757.55      1\n",
       "3         12350           310    17      334.40      0\n",
       "4         12352            36    95     1545.41      2\n",
       "...         ...           ...   ...         ...    ...\n",
       "3532      18278            74     9      173.90      0\n",
       "3533      18280           278    10      180.60      0\n",
       "3534      18281           181     7       80.82      0\n",
       "3535      18282             8    13      176.60      0\n",
       "3536      18287            43    70     1837.28      1\n",
       "\n",
       "[3537 rows x 5 columns]"
      ]
     },
     "execution_count": 130,
     "metadata": {},
     "output_type": "execute_result"
    }
   ],
   "source": [
    "clustered"
   ]
  },
  {
   "cell_type": "code",
   "execution_count": 131,
   "metadata": {},
   "outputs": [
    {
     "data": {
      "text/plain": [
       "Text(0.5, 1.0, 'Mean Frequency of Purchase for each cluster')"
      ]
     },
     "execution_count": 131,
     "metadata": {},
     "output_type": "execute_result"
    },
    {
     "data": {
      "image/png": "[encoded data removed]",
      "text/plain": [
       "<Figure size 432x288 with 1 Axes>"
      ]
     },
     "metadata": {
      "needs_background": "light"
     },
     "output_type": "display_data"
    }
   ],
   "source": [
    "sns.barplot(x=[0,1,2,3,4],y=clustered[['Label','Freq']].groupby(by = ['Label']).mean().Freq)\n",
    "plt.xlabel('Clusters')\n",
    "plt.title('Mean Frequency of Purchase for each cluster')"
   ]
  },
  {
   "cell_type": "code",
   "execution_count": 132,
   "metadata": {},
   "outputs": [
    {
     "data": {
      "text/plain": [
       "Text(0.5, 1.0, 'Mean LastPurchase for each cluster')"
      ]
     },
     "execution_count": 132,
     "metadata": {},
     "output_type": "execute_result"
    },
    {
     "data": {
      "image/png": "[encoded data removed]",
      "text/plain": [
       "<Figure size 432x288 with 1 Axes>"
      ]
     },
     "metadata": {
      "needs_background": "light"
     },
     "output_type": "display_data"
    }
   ],
   "source": [
    "sns.barplot(x=[0,1,2,3,4],y=clustered[['LastPurchase','Label']].groupby(by = ['Label']).mean().LastPurchase)\n",
    "plt.xlabel('Clusters')\n",
    "plt.title('Mean LastPurchase for each cluster')"
   ]
  },
  {
   "cell_type": "code",
   "execution_count": 133,
   "metadata": {},
   "outputs": [
    {
     "data": {
      "text/plain": [
       "Text(0.5, 1.0, 'Mean Totalprice for each cluster')"
      ]
     },
     "execution_count": 133,
     "metadata": {},
     "output_type": "execute_result"
    },
    {
     "data": {
      "image/png": "[encoded data removed]",
      "text/plain": [
       "<Figure size 432x288 with 1 Axes>"
      ]
     },
     "metadata": {
      "needs_background": "light"
     },
     "output_type": "display_data"
    }
   ],
   "source": [
    "sns.barplot(x=[0,1,2,3,4],y=clustered[['Totalprice','Label']].groupby(by = ['Label']).mean().Totalprice)\n",
    "plt.xlabel('Clusters')\n",
    "plt.title('Mean Totalprice for each cluster')"
   ]
  },
  {
   "cell_type": "code",
   "execution_count": null,
   "metadata": {},
   "outputs": [],
   "source": []
  }
 ],
 "metadata": {
  "kernelspec": {
   "display_name": "Python 3",
   "language": "python",
   "name": "python3"
  },
  "language_info": {
   "codemirror_mode": {
    "name": "ipython",
    "version": 3
   },
   "file_extension": ".py",
   "mimetype": "text/x-python",
   "name": "python",
   "nbconvert_exporter": "python",
   "pygments_lexer": "ipython3",
   "version": "3.8.5"
  }
 },
 "nbformat": 4,
 "nbformat_minor": 4
}
